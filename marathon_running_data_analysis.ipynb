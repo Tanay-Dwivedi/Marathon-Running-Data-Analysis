{
 "cells": [
  {
   "cell_type": "markdown",
   "id": "92189a77-3a6d-4be3-a2e6-b30adc695a38",
   "metadata": {},
   "source": [
    "# Marathon Running Data Analysis"
   ]
  },
  {
   "cell_type": "code",
   "execution_count": null,
   "id": "59d532b3-18d0-420b-a0a9-7105d34caf00",
   "metadata": {},
   "outputs": [],
   "source": []
  }
 ],
 "metadata": {
  "kernelspec": {
   "display_name": "Python 3 (ipykernel)",
   "language": "python",
   "name": "python3"
  },
  "language_info": {
   "codemirror_mode": {
    "name": "ipython",
    "version": 3
   },
   "file_extension": ".py",
   "mimetype": "text/x-python",
   "name": "python",
   "nbconvert_exporter": "python",
   "pygments_lexer": "ipython3",
   "version": "3.12.1"
  }
 },
 "nbformat": 4,
 "nbformat_minor": 5
}
